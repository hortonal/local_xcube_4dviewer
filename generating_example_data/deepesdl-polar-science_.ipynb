{
 "cells": [
  {
   "cell_type": "markdown",
   "id": "d6a32495",
   "metadata": {},
   "source": [
    "**NetCDF to xcube server example**\n",
    "\n",
    "This example uses the raw .nc outputs from the DeepESDL polar science use case and converts them the xcube-ready data cubes.\n",
    "\n",
    "This was originally run using a windows host machine whose D:\\ drive was mapped to /mnt/d and where the netcdf files were saved under:\n",
    "\"D:\\tmp\\polarscience\"\n"
   ]
  },
  {
   "cell_type": "code",
   "execution_count": null,
   "id": "d020793b",
   "metadata": {},
   "outputs": [
    {
     "name": "stderr",
     "output_type": "stream",
     "text": [
      "/opt/conda/lib/python3.12/site-packages/xcube/util/plugin.py:176: UserWarning: Initializing xcube plugin 'xcube_4d_viewer' took 444 ms, consider code optimization. (For example, avoid eager import of packages, consider lazy loading of resources, etc.)\n",
      "  warnings.warn(\n"
     ]
    }
   ],
   "source": [
    "import os\n",
    "from rasterio.crs import CRS\n",
    "import xarray as xr\n",
    "from xcube.core.chunk import chunk_dataset\n",
    "from xcube.core.store import new_data_store\n",
    "\n",
    "root_input_dir = '/mnt/d/tmp/polarscience'\n",
    "\n",
    "input_cases = {\n",
    "    'amery_depth_temp': 'amery_damage_class_depth_temp.nc',\n",
    "    'amery_surface_temp': 'amery_damage_class_surface_temp.nc', \n",
    "    'amery_uniform_temp': 'amery_damage_class_uniform_temp.nc'\n",
    "}\n",
    "\n",
    "chunk_size=256\n",
    "crs_wkt = CRS.from_epsg(3031).to_wkt()\n",
    "\n",
    "for scenario_name, file_name in input_cases.items():\n",
    "    \n",
    "    file_path = os.path.join(root_input_dir, file_name)\n",
    "\n",
    "    dataset = xr.open_dataset(file_path)  # xarray handles the backend internally\n",
    "    x = dataset[\"X_coord_(m)\"][:, 0].values  # first row → x-coordinates\n",
    "    y = dataset[\"Y_coord_(m)\"][0, :].values  # first column → y-coordinates\n",
    "    dataset = dataset.assign_coords(x=(\"x\", x), y=(\"y\", y))\n",
    "    dataset = dataset.drop_vars([\"X_coord_(m)\", \"Y_coord_(m)\"])\n",
    "    dataset[\"damage_class\"] = dataset[\"damage_class\"].rename({\"r\": \"y\", \"c\": \"x\"})  \n",
    "    # Ensure data in y-first orientation!\n",
    "    dataset[\"damage_class\"] = dataset[\"damage_class\"].transpose(\"y\", \"x\")\n",
    "    dataset.variables['damage_class'].attrs['4d_viewer_layer_type'] = 'heatmap'\n",
    "    dataset['damage_class'].attrs['units'] = ' '\n",
    "    dataset['damage_class'].attrs['long_name'] = scenario_name\n",
    "    dataset['damage_class'].attrs['short_name'] = scenario_name    \n",
    "    dataset['x'].attrs['axis'] = 'x'\n",
    "    dataset['x'].attrs['standard_name'] = 'East'\n",
    "    dataset['y'].attrs['axis'] = 'y'\n",
    "    dataset['y'].attrs['standard_name'] = 'North'\n",
    "\n",
    "    dataset.attrs['4d_viewer_ui_path'] = '/polar_science/'\n",
    "\n",
    "    dataset['spatial_ref'] = xr.Variable((), 0)\n",
    "    dataset['spatial_ref'].attrs.update({\n",
    "        'grid_mapping_name': 'polar_stereographic',\n",
    "        'crs_wkt': crs_wkt,\n",
    "        'epsg_code': 'EPSG:3031',\n",
    "        'spatial_ref': crs_wkt,\n",
    "    })\n",
    "\n",
    "    dataset['damage_class'].attrs['grid_mapping'] = 'spatial_ref'\n",
    "  \n",
    "    chunked_dataset = chunk_dataset(dataset, dict(x=chunk_size, y=chunk_size), format_name='zarr')\n",
    "\n",
    "    store = new_data_store('file', root='./../xcube-server-data/')\n",
    "    store.write_data(chunked_dataset, f'{scenario_name}.zarr', replace=True)\n",
    "    store.write_data(chunked_dataset, f'{scenario_name}.levels', replace=True,\n",
    "                     base_dataset_id=f'{scenario_name}.zarr', agg_methods=\"first\")\n"
   ]
  }
 ],
 "metadata": {
  "kernelspec": {
   "display_name": "conda",
   "language": "python",
   "name": "python3"
  },
  "language_info": {
   "codemirror_mode": {
    "name": "ipython",
    "version": 3
   },
   "file_extension": ".py",
   "mimetype": "text/x-python",
   "name": "python",
   "nbconvert_exporter": "python",
   "pygments_lexer": "ipython3",
   "version": "3.12.11"
  }
 },
 "nbformat": 4,
 "nbformat_minor": 5
}
